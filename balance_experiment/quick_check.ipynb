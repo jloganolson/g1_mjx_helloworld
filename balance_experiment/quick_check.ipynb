{
 "cells": [
  {
   "cell_type": "code",
   "execution_count": null,
   "metadata": {},
   "outputs": [],
   "source": [
    "## load policy from scratch\n",
    "import balance\n",
    "from functools import partial\n",
    "import mediapy as media\n",
    "from brax.training.agents.ppo import checkpoint as ppo_checkpoint\n",
    "import jax\n",
    "from pathlib import Path\n",
    "\n",
    "relative_path = Path(\"./checkpoints/g1_balance-firm-sweep-4/000408944640\")\n",
    "policy_fn = ppo_checkpoint.load_policy(relative_path.resolve())\n",
    "\n",
    "env = partial(balance.G1Env)()\n",
    "env_cfg = balance.default_config()\n",
    "jit_reset = jax.jit(env.reset)\n",
    "jit_step = jax.jit(env.step)\n",
    "jit_inference_fn = jax.jit(policy_fn)\n",
    "rng = jax.random.PRNGKey(42)\n",
    "rollout = []\n",
    "n_episodes = 1\n",
    "\n",
    "for _ in range(n_episodes):\n",
    "  state = jit_reset(rng)\n",
    "  rollout.append(state)\n",
    "  for i in range(200):\n",
    "    act_rng, rng = jax.random.split(rng)\n",
    "    ctrl, _ = jit_inference_fn(state.obs, act_rng)\n",
    "    state = jit_step(state, ctrl)\n",
    "    rollout.append(state)\n",
    "\n",
    "render_every = 1\n",
    "frames = env.render(rollout[::render_every])\n",
    "rewards = [s.reward for s in rollout]\n",
    "\n",
    "\n",
    "media.show_video(frames, fps=1.0 / env.dt / render_every)\n",
    "# ~11s"
   ]
  },
  {
   "cell_type": "code",
   "execution_count": 1,
   "metadata": {},
   "outputs": [
    {
     "ename": "IndentationError",
     "evalue": "expected an indented block after 'for' statement on line 23 (714739657.py, line 24)",
     "output_type": "error",
     "traceback": [
      "\u001b[0;36m  Cell \u001b[0;32mIn[1], line 24\u001b[0;36m\u001b[0m\n\u001b[0;31m    state = jit_reset(rng)\u001b[0m\n\u001b[0m    ^\u001b[0m\n\u001b[0;31mIndentationError\u001b[0m\u001b[0;31m:\u001b[0m expected an indented block after 'for' statement on line 23\n"
     ]
    }
   ],
   "source": [
    "## load policy from scratch\n",
    "import balance\n",
    "from functools import partial\n",
    "import mediapy as media\n",
    "from brax.training.agents.ppo import checkpoint as ppo_checkpoint\n",
    "import jax\n",
    "from pathlib import Path\n",
    "\n",
    "# relative_path = Path(\"./checkpoints/g1_balance-firm-sweep-4/000408944640\")\n",
    "\n",
    "def make_video_from_path(relative_path):\n",
    "    policy_fn = ppo_checkpoint.load_policy(relative_path.resolve())\n",
    "\n",
    "    env = partial(balance.G1Env)()\n",
    "    env_cfg = balance.default_config()\n",
    "    jit_reset = jax.jit(env.reset)\n",
    "    jit_step = jax.jit(env.step)\n",
    "    jit_inference_fn = jax.jit(policy_fn)\n",
    "    rng = jax.random.PRNGKey(42)\n",
    "    rollout = []\n",
    "    n_episodes = 1\n",
    "\n",
    "    for _ in range(n_episodes):\n",
    "        state = jit_reset(rng)\n",
    "        rollout.append(state)\n",
    "        for i in range(200):\n",
    "            act_rng, rng = jax.random.split(rng)\n",
    "            ctrl, _ = jit_inference_fn(state.obs, act_rng)\n",
    "            state = jit_step(state, ctrl)\n",
    "            rollout.append(state)\n",
    "\n",
    "    render_every = 1\n",
    "    frames = env.render(rollout[::render_every])\n",
    "    rewards = [s.reward for s in rollout]\n",
    "\n",
    "\n",
    "    media.show_video(frames, fps=1.0 / env.dt / render_every)\n",
    "# ~11s\n",
    "relative_path = Path(\"./checkpoints/g1_balance-dandy-sweep-3/000408944640\")\n",
    "make_video_from_path(relative_path)\n",
    "\n",
    "\n"
   ]
  }
 ],
 "metadata": {
  "kernelspec": {
   "display_name": "g1",
   "language": "python",
   "name": "python3"
  },
  "language_info": {
   "codemirror_mode": {
    "name": "ipython",
    "version": 3
   },
   "file_extension": ".py",
   "mimetype": "text/x-python",
   "name": "python",
   "nbconvert_exporter": "python",
   "pygments_lexer": "ipython3",
   "version": "3.10.16"
  }
 },
 "nbformat": 4,
 "nbformat_minor": 2
}
