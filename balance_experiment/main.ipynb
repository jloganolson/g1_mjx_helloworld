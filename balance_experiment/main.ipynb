{
 "cells": [
  {
   "cell_type": "code",
   "execution_count": 1,
   "metadata": {},
   "outputs": [],
   "source": [
    "%load_ext autoreload\n",
    "%autoreload 2\n",
    "\n",
    "import numpy as np\n",
    "import os\n",
    "\n",
    "os.environ['__NV_PRIME_RENDER_OFFLOAD'] = '1'\n",
    "os.environ['__GLX_VENDOR_LIBRARY_NAME'] = 'nvidia'\n",
    "os.environ['MUJOCO_GL'] = 'egl'\n",
    "\n",
    "# Tell XLA to use Triton GEMM, this improves steps/sec by ~30% on some GPUs\n",
    "xla_flags = os.environ.get('XLA_FLAGS', '')\n",
    "xla_flags += ' --xla_gpu_triton_gemm_any=True'\n",
    "os.environ['XLA_FLAGS'] = xla_flags\n",
    "\n",
    "from functools import partial\n",
    "from brax.training.agents.ppo import networks as ppo_networks\n",
    "from brax.training.agents.ppo import train as ppo\n",
    "import wandb\n",
    "\n",
    "\n",
    "import jax\n",
    "import mediapy as media\n",
    "from randomize import domain_randomize\n",
    "np.set_printoptions(precision=3, suppress=True, linewidth=100)\n"
   ]
  },
  {
   "cell_type": "code",
   "execution_count": 2,
   "metadata": {},
   "outputs": [],
   "source": [
    "\n",
    "import balance\n",
    "env = balance.G1Env()\n",
    "eval_env = balance.G1Env()\n",
    "env_cfg = balance.default_config()\n",
    "\n",
    "# jit_reset = jax.jit(env.reset)\n",
    "# jit_step = jax.jit(env.step)\n",
    "# state = jit_reset(jax.random.PRNGKey(0))\n",
    "# rollout = [state]\n",
    "\n",
    "# f = 0.5\n",
    "\n",
    "# for i in tqdm(range(200)):\n",
    "#   action = []\n",
    "#   for j in range(env.action_size):\n",
    "\n",
    "#     if env.mj_model.actuator(j).name == \"right_knee_joint\" or env.mj_model.actuator(j).name == \"left_shoulder_roll_joint\":\n",
    "#       value = jp.sin(\n",
    "#             state.data.time * 2 * jp.pi * f \n",
    "#         ) * 1.\n",
    "#     else:\n",
    "#       value = 0.\n",
    "      \n",
    "#     action.append( value)\n",
    "#   action = jp.array(action)\n",
    "#   state = jit_step(state, action)\n",
    "#   rollout.append(state)\n",
    "# frames = env.render(rollout, camera=\"track\")\n"
   ]
  },
  {
   "cell_type": "code",
   "execution_count": 3,
   "metadata": {},
   "outputs": [
    {
     "name": "stderr",
     "output_type": "stream",
     "text": [
      "\u001b[34m\u001b[1mwandb\u001b[0m: Using wandb-core as the SDK backend.  Please refer to https://wandb.me/wandb-core for more information.\n"
     ]
    },
    {
     "name": "stdout",
     "output_type": "stream",
     "text": [
      "Checkpoint path: /home/logan/Projects/g1_mjx_helloworld/balance_experiment/checkpoints/g1_balance-20250414-221130\n"
     ]
    },
    {
     "name": "stderr",
     "output_type": "stream",
     "text": [
      "\u001b[34m\u001b[1mwandb\u001b[0m: Currently logged in as: \u001b[33mjloganolson\u001b[0m (\u001b[33mjloganolson-n-a\u001b[0m) to \u001b[32mhttps://api.wandb.ai\u001b[0m. Use \u001b[1m`wandb login --relogin`\u001b[0m to force relogin\n"
     ]
    },
    {
     "data": {
      "text/html": [
       "Tracking run with wandb version 0.19.9"
      ],
      "text/plain": [
       "<IPython.core.display.HTML object>"
      ]
     },
     "metadata": {},
     "output_type": "display_data"
    },
    {
     "data": {
      "text/html": [
       "Run data is saved locally in <code>/home/logan/Projects/g1_mjx_helloworld/balance_experiment/wandb/run-20250414_221130-y14ucnev</code>"
      ],
      "text/plain": [
       "<IPython.core.display.HTML object>"
      ]
     },
     "metadata": {},
     "output_type": "display_data"
    },
    {
     "data": {
      "text/html": [
       "Syncing run <strong><a href='https://wandb.ai/jloganolson-n-a/mjxrl/runs/y14ucnev' target=\"_blank\">worldly-jazz-14</a></strong> to <a href='https://wandb.ai/jloganolson-n-a/mjxrl' target=\"_blank\">Weights & Biases</a> (<a href='https://wandb.me/developer-guide' target=\"_blank\">docs</a>)<br>"
      ],
      "text/plain": [
       "<IPython.core.display.HTML object>"
      ]
     },
     "metadata": {},
     "output_type": "display_data"
    },
    {
     "data": {
      "text/html": [
       " View project at <a href='https://wandb.ai/jloganolson-n-a/mjxrl' target=\"_blank\">https://wandb.ai/jloganolson-n-a/mjxrl</a>"
      ],
      "text/plain": [
       "<IPython.core.display.HTML object>"
      ]
     },
     "metadata": {},
     "output_type": "display_data"
    },
    {
     "data": {
      "text/html": [
       " View run at <a href='https://wandb.ai/jloganolson-n-a/mjxrl/runs/y14ucnev' target=\"_blank\">https://wandb.ai/jloganolson-n-a/mjxrl/runs/y14ucnev</a>"
      ],
      "text/plain": [
       "<IPython.core.display.HTML object>"
      ]
     },
     "metadata": {},
     "output_type": "display_data"
    }
   ],
   "source": [
    "\n",
    "from datetime import datetime\n",
    "\n",
    "env_name = \"g1_balance\"\n",
    "now = datetime.now()\n",
    "timestamp = now.strftime(\"%Y%m%d-%H%M%S\")\n",
    "exp_name = f\"{env_name}-{timestamp}\"\n",
    "import os\n",
    "\n",
    "ckpt_path = os.path.abspath(os.path.join(\".\", \"checkpoints\", exp_name))\n",
    "os.makedirs(ckpt_path, exist_ok=True)\n",
    "print(f\"Checkpoint path: {ckpt_path}\")# media.show_video(frames, fps=1.0 / env.dt)\n",
    "\n",
    "\n",
    "wandb.init(project=\"mjxrl\", config=env_cfg)\n",
    "wandb.config.update({\n",
    "    \"env_name\": env_name,\n",
    "})"
   ]
  },
  {
   "cell_type": "code",
   "execution_count": null,
   "metadata": {},
   "outputs": [],
   "source": [
    "from ml_collections import config_dict\n",
    "# ppo_params= config_dict.create(\n",
    "#     num_timesteps=1_000_000,\n",
    "#     num_evals=10,\n",
    "#     reward_scaling=10.0,\n",
    "#     episode_length=env_cfg.episode_length,\n",
    "#     normalize_observations=True,\n",
    "#     action_repeat=1,\n",
    "#     unroll_length=30,\n",
    "#     num_minibatches=32,\n",
    "#     num_updates_per_batch=16,\n",
    "#     discounting=0.995,\n",
    "#     learning_rate=1e-3,\n",
    "#     entropy_cost=1e-2,\n",
    "#     num_envs=2048,\n",
    "#     batch_size=1024,\n",
    "# )\n",
    "\n",
    "from ml_collections import config_dict\n",
    "ppo_params= config_dict.create(\n",
    "    num_timesteps=100_000_000,\n",
    "    reward_scaling=10.0,\n",
    "    episode_length=env_cfg.episode_length,\n",
    "    normalize_observations=True,\n",
    "    action_repeat=1,\n",
    "    unroll_length=30,\n",
    "    num_minibatches=32,\n",
    "    num_updates_per_batch=16,\n",
    "    discounting=0.995,\n",
    "    learning_rate=1e-3,\n",
    "    entropy_cost=1e-2,\n",
    "    num_envs=2048,\n",
    "    batch_size=1024,\n",
    "    num_evals=0,\n",
    "    log_training_metrics=True,\n",
    "    network_factory=config_dict.create(\n",
    "        policy_hidden_layer_sizes=(512, 256, 128),\n",
    "        value_hidden_layer_sizes=(512, 256, 128),\n",
    "        policy_obs_key=\"state\",\n",
    "        value_obs_key=\"privileged_state\",\n",
    "    )\n",
    ")\n",
    "x_data, y_data, y_dataerr = [], [], []\n",
    "times = [datetime.now()]\n",
    "\n",
    "\n",
    "def progress_cli(num_steps, metrics):\n",
    "  \"\"\"Prints progress metrics to the console, including all available metrics.\"\"\"\n",
    "\n",
    "  wandb.log(metrics, step=num_steps)\n",
    "\n",
    "  # Print the current step number\n",
    "  print(f\"Step: {num_steps}\")\n",
    "\n",
    "  # Print the entire metrics dictionary for debugging\n",
    "  print(\"Metrics:\", metrics)\n",
    "\n",
    "  # You can add a separator for clarity if you run this multiple times\n",
    "  print(\"-\" * 20)\n",
    "\n",
    "ppo_training_params = dict(ppo_params)\n",
    "network_factory = ppo_networks.make_ppo_networks\n",
    "if \"network_factory\" in ppo_params:\n",
    "  del ppo_training_params[\"network_factory\"]\n",
    "  network_factory = partial(\n",
    "      ppo_networks.make_ppo_networks,\n",
    "      **ppo_params.network_factory\n",
    "  )\n",
    "from mujoco_playground import wrapper\n",
    "\n",
    "train_fn = partial(\n",
    "    ppo.train, **dict(ppo_training_params),\n",
    "    network_factory=network_factory,\n",
    "    progress_fn=progress_cli,\n",
    "    randomization_fn=domain_randomize,\n",
    "    wrap_env_fn=wrapper.wrap_for_brax_training,\n",
    "    save_checkpoint_path=ckpt_path  \n",
    ")"
   ]
  },
  {
   "cell_type": "code",
   "execution_count": 6,
   "metadata": {},
   "outputs": [
    {
     "name": "stderr",
     "output_type": "stream",
     "text": [
      "/home/logan/miniconda3/envs/g1/lib/python3.10/site-packages/jax/_src/interpreters/xla.py:132: RuntimeWarning: overflow encountered in cast\n",
      "  return np.asarray(x, dtypes.canonicalize_dtype(x.dtype))\n"
     ]
    },
    {
     "name": "stdout",
     "output_type": "stream",
     "text": [
      "Step: 983040\n",
      "Metrics: {'episode/length': np.float64(46.89), 'episode/reward/dof_pos_limits': np.float64(-1.1098488987237216), 'episode/reward/height': np.float64(3.3354951761243865), 'episode/reward/orientation': np.float64(12.38266056060791), 'episode/reward/pose': np.float64(-5.648868931531906), 'episode/sum_reward': np.float64(0.17918875068426132)}\n",
      "--------------------\n"
     ]
    },
    {
     "name": "stderr",
     "output_type": "stream",
     "text": [
      "E0414 22:13:30.378990   45557 pjrt_stream_executor_client.cc:3077] Execution of replica 0 failed: INTERNAL: CustomCall failed: CpuCallback error: Traceback (most recent call last):\n",
      "  File \"/home/logan/miniconda3/envs/g1/lib/python3.10/runpy.py\", line 196, in _run_module_as_main\n",
      "  File \"/home/logan/miniconda3/envs/g1/lib/python3.10/runpy.py\", line 86, in _run_code\n",
      "  File \"/home/logan/miniconda3/envs/g1/lib/python3.10/site-packages/ipykernel_launcher.py\", line 18, in <module>\n",
      "  File \"/home/logan/miniconda3/envs/g1/lib/python3.10/site-packages/traitlets/config/application.py\", line 1075, in launch_instance\n",
      "  File \"/home/logan/miniconda3/envs/g1/lib/python3.10/site-packages/ipykernel/kernelapp.py\", line 739, in start\n",
      "  File \"/home/logan/miniconda3/envs/g1/lib/python3.10/site-packages/tornado/platform/asyncio.py\", line 205, in start\n",
      "  File \"/home/logan/miniconda3/envs/g1/lib/python3.10/asyncio/base_events.py\", line 603, in run_forever\n",
      "  File \"/home/logan/miniconda3/envs/g1/lib/python3.10/asyncio/base_events.py\", line 1909, in _run_once\n",
      "  File \"/home/logan/miniconda3/envs/g1/lib/python3.10/asyncio/events.py\", line 80, in _run\n",
      "  File \"/home/logan/miniconda3/envs/g1/lib/python3.10/site-packages/ipykernel/kernelbase.py\", line 545, in dispatch_queue\n",
      "  File \"/home/logan/miniconda3/envs/g1/lib/python3.10/site-packages/ipykernel/kernelbase.py\", line 534, in process_one\n",
      "  File \"/home/logan/miniconda3/envs/g1/lib/python3.10/site-packages/ipykernel/kernelbase.py\", line 437, in dispatch_shell\n",
      "  File \"/home/logan/miniconda3/envs/g1/lib/python3.10/site-packages/ipykernel/ipkernel.py\", line 362, in execute_request\n",
      "  File \"/home/logan/miniconda3/envs/g1/lib/python3.10/site-packages/ipykernel/kernelbase.py\", line 778, in execute_request\n",
      "  File \"/home/logan/miniconda3/envs/g1/lib/python3.10/site-packages/ipykernel/ipkernel.py\", line 449, in do_execute\n",
      "  File \"/home/logan/miniconda3/envs/g1/lib/python3.10/site-packages/ipykernel/zmqshell.py\", line 549, in run_cell\n",
      "  File \"/home/logan/miniconda3/envs/g1/lib/python3.10/site-packages/IPython/core/interactiveshell.py\", line 3077, in run_cell\n",
      "  File \"/home/logan/miniconda3/envs/g1/lib/python3.10/site-packages/IPython/core/interactiveshell.py\", line 3132, in _run_cell\n",
      "  File \"/home/logan/miniconda3/envs/g1/lib/python3.10/site-packages/IPython/core/async_helpers.py\", line 128, in _pseudo_sync_runner\n",
      "  File \"/home/logan/miniconda3/envs/g1/lib/python3.10/site-packages/IPython/core/interactiveshell.py\", line 3336, in run_cell_async\n",
      "  File \"/home/logan/miniconda3/envs/g1/lib/python3.10/site-packages/IPython/core/interactiveshell.py\", line 3519, in run_ast_nodes\n",
      "  File \"/home/logan/miniconda3/envs/g1/lib/python3.10/site-packages/IPython/core/interactiveshell.py\", line 3579, in run_code\n",
      "  File \"/tmp/ipykernel_45557/3161622361.py\", line 1, in <module>\n",
      "  File \"/home/logan/miniconda3/envs/g1/lib/python3.10/site-packages/brax/training/agents/ppo/train.py\", line 696, in train\n",
      "  File \"/home/logan/miniconda3/envs/g1/lib/python3.10/site-packages/brax/training/agents/ppo/train.py\", line 578, in training_epoch_with_timing\n",
      "  File \"/home/logan/miniconda3/envs/g1/lib/python3.10/site-packages/jax/_src/traceback_util.py\", line 180, in reraise_with_filtered_traceback\n",
      "  File \"/home/logan/miniconda3/envs/g1/lib/python3.10/site-packages/jax/_src/api.py\", line 1597, in cache_miss\n",
      "  File \"/home/logan/miniconda3/envs/g1/lib/python3.10/site-packages/jax/_src/profiler.py\", line 334, in wrapper\n",
      "  File \"/home/logan/miniconda3/envs/g1/lib/python3.10/site-packages/jax/_src/interpreters/pxla.py\", line 1288, in __call__\n",
      "  File \"/home/logan/miniconda3/envs/g1/lib/python3.10/site-packages/jax/_src/callback.py\", line 777, in _wrapped_callback\n",
      "KeyboardInterrupt: \n"
     ]
    },
    {
     "ename": "XlaRuntimeError",
     "evalue": "INTERNAL: CustomCall failed: CpuCallback error: Traceback (most recent call last):\n  File \"/home/logan/miniconda3/envs/g1/lib/python3.10/runpy.py\", line 196, in _run_module_as_main\n  File \"/home/logan/miniconda3/envs/g1/lib/python3.10/runpy.py\", line 86, in _run_code\n  File \"/home/logan/miniconda3/envs/g1/lib/python3.10/site-packages/ipykernel_launcher.py\", line 18, in <module>\n  File \"/home/logan/miniconda3/envs/g1/lib/python3.10/site-packages/traitlets/config/application.py\", line 1075, in launch_instance\n  File \"/home/logan/miniconda3/envs/g1/lib/python3.10/site-packages/ipykernel/kernelapp.py\", line 739, in start\n  File \"/home/logan/miniconda3/envs/g1/lib/python3.10/site-packages/tornado/platform/asyncio.py\", line 205, in start\n  File \"/home/logan/miniconda3/envs/g1/lib/python3.10/asyncio/base_events.py\", line 603, in run_forever\n  File \"/home/logan/miniconda3/envs/g1/lib/python3.10/asyncio/base_events.py\", line 1909, in _run_once\n  File \"/home/logan/miniconda3/envs/g1/lib/python3.10/asyncio/events.py\", line 80, in _run\n  File \"/home/logan/miniconda3/envs/g1/lib/python3.10/site-packages/ipykernel/kernelbase.py\", line 545, in dispatch_queue\n  File \"/home/logan/miniconda3/envs/g1/lib/python3.10/site-packages/ipykernel/kernelbase.py\", line 534, in process_one\n  File \"/home/logan/miniconda3/envs/g1/lib/python3.10/site-packages/ipykernel/kernelbase.py\", line 437, in dispatch_shell\n  File \"/home/logan/miniconda3/envs/g1/lib/python3.10/site-packages/ipykernel/ipkernel.py\", line 362, in execute_request\n  File \"/home/logan/miniconda3/envs/g1/lib/python3.10/site-packages/ipykernel/kernelbase.py\", line 778, in execute_request\n  File \"/home/logan/miniconda3/envs/g1/lib/python3.10/site-packages/ipykernel/ipkernel.py\", line 449, in do_execute\n  File \"/home/logan/miniconda3/envs/g1/lib/python3.10/site-packages/ipykernel/zmqshell.py\", line 549, in run_cell\n  File \"/home/logan/miniconda3/envs/g1/lib/python3.10/site-packages/IPython/core/interactiveshell.py\", line 3077, in run_cell\n  File \"/home/logan/miniconda3/envs/g1/lib/python3.10/site-packages/IPython/core/interactiveshell.py\", line 3132, in _run_cell\n  File \"/home/logan/miniconda3/envs/g1/lib/python3.10/site-packages/IPython/core/async_helpers.py\", line 128, in _pseudo_sync_runner\n  File \"/home/logan/miniconda3/envs/g1/lib/python3.10/site-packages/IPython/core/interactiveshell.py\", line 3336, in run_cell_async\n  File \"/home/logan/miniconda3/envs/g1/lib/python3.10/site-packages/IPython/core/interactiveshell.py\", line 3519, in run_ast_nodes\n  File \"/home/logan/miniconda3/envs/g1/lib/python3.10/site-packages/IPython/core/interactiveshell.py\", line 3579, in run_code\n  File \"/tmp/ipykernel_45557/3161622361.py\", line 1, in <module>\n  File \"/home/logan/miniconda3/envs/g1/lib/python3.10/site-packages/brax/training/agents/ppo/train.py\", line 696, in train\n  File \"/home/logan/miniconda3/envs/g1/lib/python3.10/site-packages/brax/training/agents/ppo/train.py\", line 578, in training_epoch_with_timing\n  File \"/home/logan/miniconda3/envs/g1/lib/python3.10/site-packages/jax/_src/traceback_util.py\", line 180, in reraise_with_filtered_traceback\n  File \"/home/logan/miniconda3/envs/g1/lib/python3.10/site-packages/jax/_src/api.py\", line 1597, in cache_miss\n  File \"/home/logan/miniconda3/envs/g1/lib/python3.10/site-packages/jax/_src/profiler.py\", line 334, in wrapper\n  File \"/home/logan/miniconda3/envs/g1/lib/python3.10/site-packages/jax/_src/interpreters/pxla.py\", line 1288, in __call__\n  File \"/home/logan/miniconda3/envs/g1/lib/python3.10/site-packages/jax/_src/callback.py\", line 777, in _wrapped_callback\nKeyboardInterrupt: ",
     "output_type": "error",
     "traceback": [
      "\u001b[0;31m---------------------------------------------------------------------------\u001b[0m",
      "\u001b[0;31mXlaRuntimeError\u001b[0m                           Traceback (most recent call last)",
      "Cell \u001b[0;32mIn[6], line 1\u001b[0m\n\u001b[0;32m----> 1\u001b[0m make_inference_fn, params, metrics \u001b[38;5;241m=\u001b[39m \u001b[43mtrain_fn\u001b[49m\u001b[43m(\u001b[49m\n\u001b[1;32m      2\u001b[0m \u001b[43m    \u001b[49m\u001b[43menvironment\u001b[49m\u001b[38;5;241;43m=\u001b[39;49m\u001b[43menv\u001b[49m\u001b[43m,\u001b[49m\n\u001b[1;32m      3\u001b[0m \u001b[43m    \u001b[49m\u001b[43meval_env\u001b[49m\u001b[38;5;241;43m=\u001b[39;49m\u001b[43meval_env\u001b[49m\n\u001b[1;32m      4\u001b[0m \u001b[43m)\u001b[49m\n\u001b[1;32m      5\u001b[0m \u001b[38;5;66;03m# print(f\"time to jit: {times[1] - times[0]}\")\u001b[39;00m\n\u001b[1;32m      6\u001b[0m \u001b[38;5;66;03m# print(f\"time to train: {times[-1] - times[1]}\")\u001b[39;00m\n\u001b[1;32m      7\u001b[0m \u001b[38;5;66;03m# # ~6m11s\u001b[39;00m\n",
      "File \u001b[0;32m~/miniconda3/envs/g1/lib/python3.10/site-packages/brax/training/agents/ppo/train.py:696\u001b[0m, in \u001b[0;36mtrain\u001b[0;34m(environment, num_timesteps, max_devices_per_host, wrap_env, madrona_backend, augment_pixels, num_envs, episode_length, action_repeat, wrap_env_fn, randomization_fn, learning_rate, entropy_cost, discounting, unroll_length, batch_size, num_minibatches, num_updates_per_batch, num_resets_per_eval, normalize_observations, reward_scaling, clipping_epsilon, gae_lambda, max_grad_norm, normalize_advantage, network_factory, seed, num_evals, eval_env, num_eval_envs, deterministic_eval, log_training_metrics, training_metrics_steps, progress_fn, policy_params_fn, save_checkpoint_path, restore_checkpoint_path, restore_params, restore_value_fn)\u001b[0m\n\u001b[1;32m    693\u001b[0m epoch_key, local_key \u001b[38;5;241m=\u001b[39m jax\u001b[38;5;241m.\u001b[39mrandom\u001b[38;5;241m.\u001b[39msplit(local_key)\n\u001b[1;32m    694\u001b[0m epoch_keys \u001b[38;5;241m=\u001b[39m jax\u001b[38;5;241m.\u001b[39mrandom\u001b[38;5;241m.\u001b[39msplit(epoch_key, local_devices_to_use)\n\u001b[1;32m    695\u001b[0m (training_state, env_state, training_metrics) \u001b[38;5;241m=\u001b[39m (\n\u001b[0;32m--> 696\u001b[0m     \u001b[43mtraining_epoch_with_timing\u001b[49m\u001b[43m(\u001b[49m\u001b[43mtraining_state\u001b[49m\u001b[43m,\u001b[49m\u001b[43m \u001b[49m\u001b[43menv_state\u001b[49m\u001b[43m,\u001b[49m\u001b[43m \u001b[49m\u001b[43mepoch_keys\u001b[49m\u001b[43m)\u001b[49m\n\u001b[1;32m    697\u001b[0m )\n\u001b[1;32m    698\u001b[0m current_step \u001b[38;5;241m=\u001b[39m \u001b[38;5;28mint\u001b[39m(_unpmap(training_state\u001b[38;5;241m.\u001b[39menv_steps))\n\u001b[1;32m    700\u001b[0m key_envs \u001b[38;5;241m=\u001b[39m jax\u001b[38;5;241m.\u001b[39mvmap(\n\u001b[1;32m    701\u001b[0m     \u001b[38;5;28;01mlambda\u001b[39;00m x, s: jax\u001b[38;5;241m.\u001b[39mrandom\u001b[38;5;241m.\u001b[39msplit(x[\u001b[38;5;241m0\u001b[39m], s), in_axes\u001b[38;5;241m=\u001b[39m(\u001b[38;5;241m0\u001b[39m, \u001b[38;5;28;01mNone\u001b[39;00m)\n\u001b[1;32m    702\u001b[0m )(key_envs, key_envs\u001b[38;5;241m.\u001b[39mshape[\u001b[38;5;241m1\u001b[39m])\n",
      "File \u001b[0;32m~/miniconda3/envs/g1/lib/python3.10/site-packages/brax/training/agents/ppo/train.py:578\u001b[0m, in \u001b[0;36mtrain.<locals>.training_epoch_with_timing\u001b[0;34m(training_state, env_state, key)\u001b[0m\n\u001b[1;32m    576\u001b[0m t \u001b[38;5;241m=\u001b[39m time\u001b[38;5;241m.\u001b[39mtime()\n\u001b[1;32m    577\u001b[0m training_state, env_state \u001b[38;5;241m=\u001b[39m _strip_weak_type((training_state, env_state))\n\u001b[0;32m--> 578\u001b[0m result \u001b[38;5;241m=\u001b[39m \u001b[43mtraining_epoch\u001b[49m\u001b[43m(\u001b[49m\u001b[43mtraining_state\u001b[49m\u001b[43m,\u001b[49m\u001b[43m \u001b[49m\u001b[43menv_state\u001b[49m\u001b[43m,\u001b[49m\u001b[43m \u001b[49m\u001b[43mkey\u001b[49m\u001b[43m)\u001b[49m\n\u001b[1;32m    579\u001b[0m training_state, env_state, metrics \u001b[38;5;241m=\u001b[39m _strip_weak_type(result)\n\u001b[1;32m    581\u001b[0m metrics \u001b[38;5;241m=\u001b[39m jax\u001b[38;5;241m.\u001b[39mtree_util\u001b[38;5;241m.\u001b[39mtree_map(jnp\u001b[38;5;241m.\u001b[39mmean, metrics)\n",
      "    \u001b[0;31m[... skipping hidden 3 frame]\u001b[0m\n",
      "File \u001b[0;32m~/miniconda3/envs/g1/lib/python3.10/site-packages/jax/_src/interpreters/pxla.py:1288\u001b[0m, in \u001b[0;36mExecuteReplicated.__call__\u001b[0;34m(self, *args)\u001b[0m\n\u001b[1;32m   1285\u001b[0m \u001b[38;5;28;01mif\u001b[39;00m (\u001b[38;5;28mself\u001b[39m\u001b[38;5;241m.\u001b[39mordered_effects \u001b[38;5;129;01mor\u001b[39;00m \u001b[38;5;28mself\u001b[39m\u001b[38;5;241m.\u001b[39mhas_unordered_effects\n\u001b[1;32m   1286\u001b[0m     \u001b[38;5;129;01mor\u001b[39;00m \u001b[38;5;28mself\u001b[39m\u001b[38;5;241m.\u001b[39mhas_host_callbacks):\n\u001b[1;32m   1287\u001b[0m   input_bufs \u001b[38;5;241m=\u001b[39m \u001b[38;5;28mself\u001b[39m\u001b[38;5;241m.\u001b[39m_add_tokens_to_inputs(input_bufs)\n\u001b[0;32m-> 1288\u001b[0m   results \u001b[38;5;241m=\u001b[39m \u001b[38;5;28;43mself\u001b[39;49m\u001b[38;5;241;43m.\u001b[39;49m\u001b[43mxla_executable\u001b[49m\u001b[38;5;241;43m.\u001b[39;49m\u001b[43mexecute_sharded\u001b[49m\u001b[43m(\u001b[49m\n\u001b[1;32m   1289\u001b[0m \u001b[43m      \u001b[49m\u001b[43minput_bufs\u001b[49m\u001b[43m,\u001b[49m\u001b[43m \u001b[49m\u001b[43mwith_tokens\u001b[49m\u001b[38;5;241;43m=\u001b[39;49m\u001b[38;5;28;43;01mTrue\u001b[39;49;00m\n\u001b[1;32m   1290\u001b[0m \u001b[43m  \u001b[49m\u001b[43m)\u001b[49m\n\u001b[1;32m   1292\u001b[0m   result_token_bufs \u001b[38;5;241m=\u001b[39m results\u001b[38;5;241m.\u001b[39mdisassemble_prefix_into_single_device_arrays(\n\u001b[1;32m   1293\u001b[0m       \u001b[38;5;28mlen\u001b[39m(\u001b[38;5;28mself\u001b[39m\u001b[38;5;241m.\u001b[39mordered_effects))\n\u001b[1;32m   1294\u001b[0m   sharded_runtime_token \u001b[38;5;241m=\u001b[39m results\u001b[38;5;241m.\u001b[39mconsume_token()\n",
      "\u001b[0;31mXlaRuntimeError\u001b[0m: INTERNAL: CustomCall failed: CpuCallback error: Traceback (most recent call last):\n  File \"/home/logan/miniconda3/envs/g1/lib/python3.10/runpy.py\", line 196, in _run_module_as_main\n  File \"/home/logan/miniconda3/envs/g1/lib/python3.10/runpy.py\", line 86, in _run_code\n  File \"/home/logan/miniconda3/envs/g1/lib/python3.10/site-packages/ipykernel_launcher.py\", line 18, in <module>\n  File \"/home/logan/miniconda3/envs/g1/lib/python3.10/site-packages/traitlets/config/application.py\", line 1075, in launch_instance\n  File \"/home/logan/miniconda3/envs/g1/lib/python3.10/site-packages/ipykernel/kernelapp.py\", line 739, in start\n  File \"/home/logan/miniconda3/envs/g1/lib/python3.10/site-packages/tornado/platform/asyncio.py\", line 205, in start\n  File \"/home/logan/miniconda3/envs/g1/lib/python3.10/asyncio/base_events.py\", line 603, in run_forever\n  File \"/home/logan/miniconda3/envs/g1/lib/python3.10/asyncio/base_events.py\", line 1909, in _run_once\n  File \"/home/logan/miniconda3/envs/g1/lib/python3.10/asyncio/events.py\", line 80, in _run\n  File \"/home/logan/miniconda3/envs/g1/lib/python3.10/site-packages/ipykernel/kernelbase.py\", line 545, in dispatch_queue\n  File \"/home/logan/miniconda3/envs/g1/lib/python3.10/site-packages/ipykernel/kernelbase.py\", line 534, in process_one\n  File \"/home/logan/miniconda3/envs/g1/lib/python3.10/site-packages/ipykernel/kernelbase.py\", line 437, in dispatch_shell\n  File \"/home/logan/miniconda3/envs/g1/lib/python3.10/site-packages/ipykernel/ipkernel.py\", line 362, in execute_request\n  File \"/home/logan/miniconda3/envs/g1/lib/python3.10/site-packages/ipykernel/kernelbase.py\", line 778, in execute_request\n  File \"/home/logan/miniconda3/envs/g1/lib/python3.10/site-packages/ipykernel/ipkernel.py\", line 449, in do_execute\n  File \"/home/logan/miniconda3/envs/g1/lib/python3.10/site-packages/ipykernel/zmqshell.py\", line 549, in run_cell\n  File \"/home/logan/miniconda3/envs/g1/lib/python3.10/site-packages/IPython/core/interactiveshell.py\", line 3077, in run_cell\n  File \"/home/logan/miniconda3/envs/g1/lib/python3.10/site-packages/IPython/core/interactiveshell.py\", line 3132, in _run_cell\n  File \"/home/logan/miniconda3/envs/g1/lib/python3.10/site-packages/IPython/core/async_helpers.py\", line 128, in _pseudo_sync_runner\n  File \"/home/logan/miniconda3/envs/g1/lib/python3.10/site-packages/IPython/core/interactiveshell.py\", line 3336, in run_cell_async\n  File \"/home/logan/miniconda3/envs/g1/lib/python3.10/site-packages/IPython/core/interactiveshell.py\", line 3519, in run_ast_nodes\n  File \"/home/logan/miniconda3/envs/g1/lib/python3.10/site-packages/IPython/core/interactiveshell.py\", line 3579, in run_code\n  File \"/tmp/ipykernel_45557/3161622361.py\", line 1, in <module>\n  File \"/home/logan/miniconda3/envs/g1/lib/python3.10/site-packages/brax/training/agents/ppo/train.py\", line 696, in train\n  File \"/home/logan/miniconda3/envs/g1/lib/python3.10/site-packages/brax/training/agents/ppo/train.py\", line 578, in training_epoch_with_timing\n  File \"/home/logan/miniconda3/envs/g1/lib/python3.10/site-packages/jax/_src/traceback_util.py\", line 180, in reraise_with_filtered_traceback\n  File \"/home/logan/miniconda3/envs/g1/lib/python3.10/site-packages/jax/_src/api.py\", line 1597, in cache_miss\n  File \"/home/logan/miniconda3/envs/g1/lib/python3.10/site-packages/jax/_src/profiler.py\", line 334, in wrapper\n  File \"/home/logan/miniconda3/envs/g1/lib/python3.10/site-packages/jax/_src/interpreters/pxla.py\", line 1288, in __call__\n  File \"/home/logan/miniconda3/envs/g1/lib/python3.10/site-packages/jax/_src/callback.py\", line 777, in _wrapped_callback\nKeyboardInterrupt: "
     ]
    },
    {
     "name": "stdout",
     "output_type": "stream",
     "text": [
      "Error in callback <bound method _WandbInit._pause_backend of <wandb.sdk.wandb_init._WandbInit object at 0x795e8eb6eda0>> (for post_run_cell), with arguments args (<ExecutionResult object at 795e8d7bba30, execution_count=6 error_before_exec=None error_in_exec=INTERNAL: CustomCall failed: CpuCallback error: Traceback (most recent call last):\n",
      "  File \"/home/logan/miniconda3/envs/g1/lib/python3.10/runpy.py\", line 196, in _run_module_as_main\n",
      "  File \"/home/logan/miniconda3/envs/g1/lib/python3.10/runpy.py\", line 86, in _run_code\n",
      "  File \"/home/logan/miniconda3/envs/g1/lib/python3.10/site-packages/ipykernel_launcher.py\", line 18, in <module>\n",
      "  File \"/home/logan/miniconda3/envs/g1/lib/python3.10/site-packages/traitlets/config/application.py\", line 1075, in launch_instance\n",
      "  File \"/home/logan/miniconda3/envs/g1/lib/python3.10/site-packages/ipykernel/kernelapp.py\", line 739, in start\n",
      "  File \"/home/logan/miniconda3/envs/g1/lib/python3.10/site-packages/tornado/platform/asyncio.py\", line 205, in start\n",
      "  File \"/home/logan/miniconda3/envs/g1/lib/python3.10/asyncio/base_events.py\", line 603, in run_forever\n",
      "  File \"/home/logan/miniconda3/envs/g1/lib/python3.10/asyncio/base_events.py\", line 1909, in _run_once\n",
      "  File \"/home/logan/miniconda3/envs/g1/lib/python3.10/asyncio/events.py\", line 80, in _run\n",
      "  File \"/home/logan/miniconda3/envs/g1/lib/python3.10/site-packages/ipykernel/kernelbase.py\", line 545, in dispatch_queue\n",
      "  File \"/home/logan/miniconda3/envs/g1/lib/python3.10/site-packages/ipykernel/kernelbase.py\", line 534, in process_one\n",
      "  File \"/home/logan/miniconda3/envs/g1/lib/python3.10/site-packages/ipykernel/kernelbase.py\", line 437, in dispatch_shell\n",
      "  File \"/home/logan/miniconda3/envs/g1/lib/python3.10/site-packages/ipykernel/ipkernel.py\", line 362, in execute_request\n",
      "  File \"/home/logan/miniconda3/envs/g1/lib/python3.10/site-packages/ipykernel/kernelbase.py\", line 778, in execute_request\n",
      "  File \"/home/logan/miniconda3/envs/g1/lib/python3.10/site-packages/ipykernel/ipkernel.py\", line 449, in do_execute\n",
      "  File \"/home/logan/miniconda3/envs/g1/lib/python3.10/site-packages/ipykernel/zmqshell.py\", line 549, in run_cell\n",
      "  File \"/home/logan/miniconda3/envs/g1/lib/python3.10/site-packages/IPython/core/interactiveshell.py\", line 3077, in run_cell\n",
      "  File \"/home/logan/miniconda3/envs/g1/lib/python3.10/site-packages/IPython/core/interactiveshell.py\", line 3132, in _run_cell\n",
      "  File \"/home/logan/miniconda3/envs/g1/lib/python3.10/site-packages/IPython/core/async_helpers.py\", line 128, in _pseudo_sync_runner\n",
      "  File \"/home/logan/miniconda3/envs/g1/lib/python3.10/site-packages/IPython/core/interactiveshell.py\", line 3336, in run_cell_async\n",
      "  File \"/home/logan/miniconda3/envs/g1/lib/python3.10/site-packages/IPython/core/interactiveshell.py\", line 3519, in run_ast_nodes\n",
      "  File \"/home/logan/miniconda3/envs/g1/lib/python3.10/site-packages/IPython/core/interactiveshell.py\", line 3579, in run_code\n",
      "  File \"/tmp/ipykernel_45557/3161622361.py\", line 1, in <module>\n",
      "  File \"/home/logan/miniconda3/envs/g1/lib/python3.10/site-packages/brax/training/agents/ppo/train.py\", line 696, in train\n",
      "  File \"/home/logan/miniconda3/envs/g1/lib/python3.10/site-packages/brax/training/agents/ppo/train.py\", line 578, in training_epoch_with_timing\n",
      "  File \"/home/logan/miniconda3/envs/g1/lib/python3.10/site-packages/jax/_src/traceback_util.py\", line 180, in reraise_with_filtered_traceback\n",
      "  File \"/home/logan/miniconda3/envs/g1/lib/python3.10/site-packages/jax/_src/api.py\", line 1597, in cache_miss\n",
      "  File \"/home/logan/miniconda3/envs/g1/lib/python3.10/site-packages/jax/_src/profiler.py\", line 334, in wrapper\n",
      "  File \"/home/logan/miniconda3/envs/g1/lib/python3.10/site-packages/jax/_src/interpreters/pxla.py\", line 1288, in __call__\n",
      "  File \"/home/logan/miniconda3/envs/g1/lib/python3.10/site-packages/jax/_src/callback.py\", line 777, in _wrapped_callback\n",
      "KeyboardInterrupt:  info=<ExecutionInfo object at 795e8d7bbac0, raw_cell=\"make_inference_fn, params, metrics = train_fn(\n",
      "   ..\" store_history=True silent=False shell_futures=True cell_id=vscode-notebook-cell:/home/logan/Projects/g1_mjx_helloworld/balance_experiment/main.ipynb#W4sZmlsZQ%3D%3D> result=None>,),kwargs {}:\n"
     ]
    },
    {
     "ename": "BrokenPipeError",
     "evalue": "[Errno 32] Broken pipe",
     "output_type": "error",
     "traceback": [
      "\u001b[0;31m---------------------------------------------------------------------------\u001b[0m",
      "\u001b[0;31mBrokenPipeError\u001b[0m                           Traceback (most recent call last)",
      "File \u001b[0;32m~/miniconda3/envs/g1/lib/python3.10/site-packages/wandb/sdk/wandb_init.py:547\u001b[0m, in \u001b[0;36m_WandbInit._pause_backend\u001b[0;34m(self, *args, **kwargs)\u001b[0m\n\u001b[1;32m    545\u001b[0m \u001b[38;5;28;01mif\u001b[39;00m \u001b[38;5;28mself\u001b[39m\u001b[38;5;241m.\u001b[39mbackend\u001b[38;5;241m.\u001b[39minterface \u001b[38;5;129;01mis\u001b[39;00m \u001b[38;5;129;01mnot\u001b[39;00m \u001b[38;5;28;01mNone\u001b[39;00m:\n\u001b[1;32m    546\u001b[0m     \u001b[38;5;28mself\u001b[39m\u001b[38;5;241m.\u001b[39m_logger\u001b[38;5;241m.\u001b[39minfo(\u001b[38;5;124m\"\u001b[39m\u001b[38;5;124mpausing backend\u001b[39m\u001b[38;5;124m\"\u001b[39m)  \u001b[38;5;66;03m# type: ignore\u001b[39;00m\n\u001b[0;32m--> 547\u001b[0m     \u001b[38;5;28;43mself\u001b[39;49m\u001b[38;5;241;43m.\u001b[39;49m\u001b[43mbackend\u001b[49m\u001b[38;5;241;43m.\u001b[39;49m\u001b[43minterface\u001b[49m\u001b[38;5;241;43m.\u001b[39;49m\u001b[43mpublish_pause\u001b[49m\u001b[43m(\u001b[49m\u001b[43m)\u001b[49m\n",
      "File \u001b[0;32m~/miniconda3/envs/g1/lib/python3.10/site-packages/wandb/sdk/interface/interface.py:769\u001b[0m, in \u001b[0;36mInterfaceBase.publish_pause\u001b[0;34m(self)\u001b[0m\n\u001b[1;32m    767\u001b[0m \u001b[38;5;28;01mdef\u001b[39;00m\u001b[38;5;250m \u001b[39m\u001b[38;5;21mpublish_pause\u001b[39m(\u001b[38;5;28mself\u001b[39m) \u001b[38;5;241m-\u001b[39m\u001b[38;5;241m>\u001b[39m \u001b[38;5;28;01mNone\u001b[39;00m:\n\u001b[1;32m    768\u001b[0m     pause \u001b[38;5;241m=\u001b[39m pb\u001b[38;5;241m.\u001b[39mPauseRequest()\n\u001b[0;32m--> 769\u001b[0m     \u001b[38;5;28;43mself\u001b[39;49m\u001b[38;5;241;43m.\u001b[39;49m\u001b[43m_publish_pause\u001b[49m\u001b[43m(\u001b[49m\u001b[43mpause\u001b[49m\u001b[43m)\u001b[49m\n",
      "File \u001b[0;32m~/miniconda3/envs/g1/lib/python3.10/site-packages/wandb/sdk/interface/interface_shared.py:289\u001b[0m, in \u001b[0;36mInterfaceShared._publish_pause\u001b[0;34m(self, pause)\u001b[0m\n\u001b[1;32m    287\u001b[0m \u001b[38;5;28;01mdef\u001b[39;00m\u001b[38;5;250m \u001b[39m\u001b[38;5;21m_publish_pause\u001b[39m(\u001b[38;5;28mself\u001b[39m, pause: pb\u001b[38;5;241m.\u001b[39mPauseRequest) \u001b[38;5;241m-\u001b[39m\u001b[38;5;241m>\u001b[39m \u001b[38;5;28;01mNone\u001b[39;00m:\n\u001b[1;32m    288\u001b[0m     rec \u001b[38;5;241m=\u001b[39m \u001b[38;5;28mself\u001b[39m\u001b[38;5;241m.\u001b[39m_make_request(pause\u001b[38;5;241m=\u001b[39mpause)\n\u001b[0;32m--> 289\u001b[0m     \u001b[38;5;28;43mself\u001b[39;49m\u001b[38;5;241;43m.\u001b[39;49m\u001b[43m_publish\u001b[49m\u001b[43m(\u001b[49m\u001b[43mrec\u001b[49m\u001b[43m)\u001b[49m\n",
      "File \u001b[0;32m~/miniconda3/envs/g1/lib/python3.10/site-packages/wandb/sdk/interface/interface_sock.py:39\u001b[0m, in \u001b[0;36mInterfaceSock._publish\u001b[0;34m(self, record, local)\u001b[0m\n\u001b[1;32m     37\u001b[0m \u001b[38;5;28;01mdef\u001b[39;00m\u001b[38;5;250m \u001b[39m\u001b[38;5;21m_publish\u001b[39m(\u001b[38;5;28mself\u001b[39m, record: \u001b[38;5;124m\"\u001b[39m\u001b[38;5;124mpb.Record\u001b[39m\u001b[38;5;124m\"\u001b[39m, local: Optional[\u001b[38;5;28mbool\u001b[39m] \u001b[38;5;241m=\u001b[39m \u001b[38;5;28;01mNone\u001b[39;00m) \u001b[38;5;241m-\u001b[39m\u001b[38;5;241m>\u001b[39m \u001b[38;5;28;01mNone\u001b[39;00m:\n\u001b[1;32m     38\u001b[0m     \u001b[38;5;28mself\u001b[39m\u001b[38;5;241m.\u001b[39m_assign(record)\n\u001b[0;32m---> 39\u001b[0m     \u001b[38;5;28;43mself\u001b[39;49m\u001b[38;5;241;43m.\u001b[39;49m\u001b[43m_sock_client\u001b[49m\u001b[38;5;241;43m.\u001b[39;49m\u001b[43msend_record_publish\u001b[49m\u001b[43m(\u001b[49m\u001b[43mrecord\u001b[49m\u001b[43m)\u001b[49m\n",
      "File \u001b[0;32m~/miniconda3/envs/g1/lib/python3.10/site-packages/wandb/sdk/lib/sock_client.py:174\u001b[0m, in \u001b[0;36mSockClient.send_record_publish\u001b[0;34m(self, record)\u001b[0m\n\u001b[1;32m    172\u001b[0m server_req\u001b[38;5;241m.\u001b[39mrequest_id \u001b[38;5;241m=\u001b[39m record\u001b[38;5;241m.\u001b[39mcontrol\u001b[38;5;241m.\u001b[39mmailbox_slot\n\u001b[1;32m    173\u001b[0m server_req\u001b[38;5;241m.\u001b[39mrecord_publish\u001b[38;5;241m.\u001b[39mCopyFrom(record)\n\u001b[0;32m--> 174\u001b[0m \u001b[38;5;28;43mself\u001b[39;49m\u001b[38;5;241;43m.\u001b[39;49m\u001b[43msend_server_request\u001b[49m\u001b[43m(\u001b[49m\u001b[43mserver_req\u001b[49m\u001b[43m)\u001b[49m\n",
      "File \u001b[0;32m~/miniconda3/envs/g1/lib/python3.10/site-packages/wandb/sdk/lib/sock_client.py:154\u001b[0m, in \u001b[0;36mSockClient.send_server_request\u001b[0;34m(self, msg)\u001b[0m\n\u001b[1;32m    153\u001b[0m \u001b[38;5;28;01mdef\u001b[39;00m\u001b[38;5;250m \u001b[39m\u001b[38;5;21msend_server_request\u001b[39m(\u001b[38;5;28mself\u001b[39m, msg: spb\u001b[38;5;241m.\u001b[39mServerRequest) \u001b[38;5;241m-\u001b[39m\u001b[38;5;241m>\u001b[39m \u001b[38;5;28;01mNone\u001b[39;00m:\n\u001b[0;32m--> 154\u001b[0m     \u001b[38;5;28;43mself\u001b[39;49m\u001b[38;5;241;43m.\u001b[39;49m\u001b[43m_send_message\u001b[49m\u001b[43m(\u001b[49m\u001b[43mmsg\u001b[49m\u001b[43m)\u001b[49m\n",
      "File \u001b[0;32m~/miniconda3/envs/g1/lib/python3.10/site-packages/wandb/sdk/lib/sock_client.py:151\u001b[0m, in \u001b[0;36mSockClient._send_message\u001b[0;34m(self, msg)\u001b[0m\n\u001b[1;32m    149\u001b[0m header \u001b[38;5;241m=\u001b[39m struct\u001b[38;5;241m.\u001b[39mpack(\u001b[38;5;124m\"\u001b[39m\u001b[38;5;124m<BI\u001b[39m\u001b[38;5;124m\"\u001b[39m, \u001b[38;5;28mord\u001b[39m(\u001b[38;5;124m\"\u001b[39m\u001b[38;5;124mW\u001b[39m\u001b[38;5;124m\"\u001b[39m), raw_size)\n\u001b[1;32m    150\u001b[0m \u001b[38;5;28;01mwith\u001b[39;00m \u001b[38;5;28mself\u001b[39m\u001b[38;5;241m.\u001b[39m_lock:\n\u001b[0;32m--> 151\u001b[0m     \u001b[38;5;28;43mself\u001b[39;49m\u001b[38;5;241;43m.\u001b[39;49m\u001b[43m_sendall_with_error_handle\u001b[49m\u001b[43m(\u001b[49m\u001b[43mheader\u001b[49m\u001b[43m \u001b[49m\u001b[38;5;241;43m+\u001b[39;49m\u001b[43m \u001b[49m\u001b[43mdata\u001b[49m\u001b[43m)\u001b[49m\n",
      "File \u001b[0;32m~/miniconda3/envs/g1/lib/python3.10/site-packages/wandb/sdk/lib/sock_client.py:130\u001b[0m, in \u001b[0;36mSockClient._sendall_with_error_handle\u001b[0;34m(self, data)\u001b[0m\n\u001b[1;32m    128\u001b[0m start_time \u001b[38;5;241m=\u001b[39m time\u001b[38;5;241m.\u001b[39mmonotonic()\n\u001b[1;32m    129\u001b[0m \u001b[38;5;28;01mtry\u001b[39;00m:\n\u001b[0;32m--> 130\u001b[0m     sent \u001b[38;5;241m=\u001b[39m \u001b[38;5;28;43mself\u001b[39;49m\u001b[38;5;241;43m.\u001b[39;49m\u001b[43m_sock\u001b[49m\u001b[38;5;241;43m.\u001b[39;49m\u001b[43msend\u001b[49m\u001b[43m(\u001b[49m\u001b[43mdata\u001b[49m\u001b[43m)\u001b[49m\n\u001b[1;32m    131\u001b[0m     \u001b[38;5;66;03m# sent equal to 0 indicates a closed socket\u001b[39;00m\n\u001b[1;32m    132\u001b[0m     \u001b[38;5;28;01mif\u001b[39;00m sent \u001b[38;5;241m==\u001b[39m \u001b[38;5;241m0\u001b[39m:\n",
      "\u001b[0;31mBrokenPipeError\u001b[0m: [Errno 32] Broken pipe"
     ]
    }
   ],
   "source": [
    "make_inference_fn, params, metrics = train_fn(\n",
    "    environment=env,\n",
    "    eval_env=eval_env\n",
    ")\n",
    "# print(f\"time to jit: {times[1] - times[0]}\")\n",
    "# print(f\"time to train: {times[-1] - times[1]}\")\n",
    "# # ~6m11s"
   ]
  },
  {
   "cell_type": "code",
   "execution_count": null,
   "metadata": {},
   "outputs": [],
   "source": [
    "jit_reset = jax.jit(env.reset)\n",
    "jit_step = jax.jit(env.step)\n",
    "jit_inference_fn = jax.jit(make_inference_fn(params, deterministic=True))\n",
    "rng = jax.random.PRNGKey(42)\n",
    "rollout = []\n",
    "n_episodes = 1\n",
    "\n",
    "for _ in range(n_episodes):\n",
    "  state = jit_reset(rng)\n",
    "  rollout.append(state)\n",
    "  for i in range(env_cfg.episode_length):\n",
    "    act_rng, rng = jax.random.split(rng)\n",
    "    ctrl, _ = jit_inference_fn(state.obs, act_rng)\n",
    "    state = jit_step(state, ctrl)\n",
    "    rollout.append(state)\n",
    "\n",
    "render_every = 1\n",
    "frames = env.render(rollout[::render_every])\n",
    "rewards = [s.reward for s in rollout]\n",
    "media.show_video(frames, fps=1.0 / env.dt / render_every)\n",
    "# ~11s"
   ]
  }
 ],
 "metadata": {
  "kernelspec": {
   "display_name": "g1",
   "language": "python",
   "name": "python3"
  },
  "language_info": {
   "codemirror_mode": {
    "name": "ipython",
    "version": 3
   },
   "file_extension": ".py",
   "mimetype": "text/x-python",
   "name": "python",
   "nbconvert_exporter": "python",
   "pygments_lexer": "ipython3",
   "version": "3.10.16"
  }
 },
 "nbformat": 4,
 "nbformat_minor": 2
}
